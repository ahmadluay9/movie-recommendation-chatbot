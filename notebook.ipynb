{
 "cells": [
  {
   "cell_type": "code",
   "execution_count": 1,
   "metadata": {},
   "outputs": [],
   "source": [
    "# Import Library\n",
    "from utils import fetch_data, loader, model_embedding, setup_chain, run_chain"
   ]
  },
  {
   "cell_type": "code",
   "execution_count": 2,
   "metadata": {},
   "outputs": [],
   "source": [
    "# user_option\n",
    "user_option = 'movie'"
   ]
  },
  {
   "cell_type": "code",
   "execution_count": 3,
   "metadata": {},
   "outputs": [],
   "source": [
    "if user_option=='TV Show':\n",
    "    user_option = 'tv'\n",
    "else:\n",
    "    user_option = 'movie'"
   ]
  },
  {
   "cell_type": "code",
   "execution_count": 4,
   "metadata": {},
   "outputs": [
    {
     "name": "stderr",
     "output_type": "stream",
     "text": [
      "C:\\Users\\luay9\\AppData\\Local\\Packages\\PythonSoftwareFoundation.Python.3.9_qbz5n2kfra8p0\\LocalCache\\local-packages\\Python39\\site-packages\\sentence_transformers\\cross_encoder\\CrossEncoder.py:11: TqdmExperimentalWarning: Using `tqdm.autonotebook.tqdm` in notebook mode. Use `tqdm.tqdm` instead to force console mode (e.g. in jupyter console)\n",
      "  from tqdm.autonotebook import tqdm, trange\n"
     ]
    },
    {
     "name": "stdout",
     "output_type": "stream",
     "text": [
      "WARNING:tensorflow:From C:\\Users\\luay9\\AppData\\Local\\Packages\\PythonSoftwareFoundation.Python.3.9_qbz5n2kfra8p0\\LocalCache\\local-packages\\Python39\\site-packages\\keras\\src\\losses.py:2976: The name tf.losses.sparse_softmax_cross_entropy is deprecated. Please use tf.compat.v1.losses.sparse_softmax_cross_entropy instead.\n",
      "\n"
     ]
    },
    {
     "name": "stderr",
     "output_type": "stream",
     "text": [
      "C:\\Users\\luay9\\AppData\\Local\\Packages\\PythonSoftwareFoundation.Python.3.9_qbz5n2kfra8p0\\LocalCache\\local-packages\\Python39\\site-packages\\huggingface_hub\\file_download.py:1132: FutureWarning: `resume_download` is deprecated and will be removed in version 1.0.0. Downloads always resume when possible. If you want to force a new download, use `force_download=True`.\n",
      "  warnings.warn(\n"
     ]
    },
    {
     "data": {
      "text/plain": [
       "HuggingFaceEmbeddings(client=SentenceTransformer(\n",
       "  (0): Transformer({'max_seq_length': 256, 'do_lower_case': False}) with Transformer model: BertModel \n",
       "  (1): Pooling({'word_embedding_dimension': 384, 'pooling_mode_cls_token': False, 'pooling_mode_mean_tokens': True, 'pooling_mode_max_tokens': False, 'pooling_mode_mean_sqrt_len_tokens': False, 'pooling_mode_weightedmean_tokens': False, 'pooling_mode_lasttoken': False, 'include_prompt': True})\n",
       "  (2): Normalize()\n",
       "), model_name='sentence-transformers/all-MiniLM-l6-v2', cache_folder=None, model_kwargs={'device': 'cpu'}, encode_kwargs={'normalize_embeddings': False}, multi_process=False)"
      ]
     },
     "execution_count": 4,
     "metadata": {},
     "output_type": "execute_result"
    }
   ],
   "source": [
    "df = fetch_data(user_option)\n",
    "loader(df)\n",
    "model_embedding()"
   ]
  },
  {
   "cell_type": "code",
   "execution_count": 5,
   "metadata": {},
   "outputs": [],
   "source": [
    "chain = setup_chain(df)"
   ]
  },
  {
   "cell_type": "code",
   "execution_count": 6,
   "metadata": {},
   "outputs": [
    {
     "name": "stdout",
     "output_type": "stream",
     "text": [
      "\n",
      "\n",
      "\u001b[1m> Entering new RetrievalQA chain...\u001b[0m\n",
      "\n",
      "\n",
      "\u001b[1m> Entering new StuffDocumentsChain chain...\u001b[0m\n",
      "\n",
      "\n",
      "\u001b[1m> Entering new LLMChain chain...\u001b[0m\n",
      "Prompt after formatting:\n",
      "\u001b[32;1m\u001b[1;3m\n",
      "    You are a movie recommender system. \n",
      "    From the following context and chat history about movies or TV shows, help users to find movie or tv shows that match their preferences.\n",
      "    For example, if the user requests a Movie/ TV show recommendation, recommend only 1 newly released or aired movie / tv shows with the following format: \n",
      "    Here are our recommendation:\n",
      "    1.  - Title:\n",
      "        - Release Date / First Aired:\n",
      "        - Genre:\n",
      "        - Popularity:\n",
      "        - Overview:\n",
      "        - Poster Path:\n",
      "\n",
      "    You shouldn't change the language of the question, just reformulate it. If it is not needed to reformulate the question or it is not a question, just output the same text.\n",
      "       \n",
      "    title: The Fall Guy, release_date: 2024-04-24, genre: ['Action', 'Comedy'], poster_path: /aBkqu7EddWK7qmY4grL4I6edx2h.jpg, popularity: 1067.714, overview: Fresh off an almost career-ending accident, stuntman Colt Seavers has to track down a missing movie star, solve a conspiracy and try to win back the love of his life while still doing his day job.\n",
      "\n",
      "title: Bad Boys: Ride or Die, release_date: 2024-06-05, genre: ['Action', 'Crime', 'Thriller', 'Comedy'], poster_path: /nP6RliHjxsz4irTKsxe8FRhKZYl.jpg, popularity: 3135.391, overview: After their late former Captain is framed, Lowrey and Burnett try to clear his name, only to end up on the run themselves.\n",
      "\n",
      "title: The Watchers, release_date: 2024-06-06, genre: ['Horror', 'Mystery', 'Thriller'], poster_path: /vZVEUPychdvZLrTNwWErr9xZFmu.jpg, popularity: 798.043, overview: A young artist gets stranded in an extensive, immaculate forest in western Ireland, where, after finding shelter, she becomes trapped alongside three strangers, stalked by mysterious creatures each night.\n",
      "\n",
      "title: Hit Man, release_date: 2024-05-16, genre: ['Romance', 'Comedy', 'Crime'], poster_path: /1126gjlBf4hTm9Sgf0ox3LGVEBt.jpg, popularity: 1034.665, overview: A mild-mannered professor moonlighting as a fake hit man in police stings ignites a chain reaction of trouble when he falls for a potential client.\n",
      "\n",
      "    []\n",
      "\n",
      "    Last Message: Any good movies to watch?\n",
      "    Your Response: \u001b[0m\n",
      "\n",
      "\u001b[1m> Finished chain.\u001b[0m\n",
      "\n",
      "\u001b[1m> Finished chain.\u001b[0m\n",
      "\n",
      "\u001b[1m> Finished chain.\u001b[0m\n",
      "Here are our recommendation:\n",
      "1.  - Title: Bad Boys: Ride or Die\n",
      "    - Release Date / First Aired: 2024-06-05\n",
      "    - Genre: Action, Crime, Thriller, Comedy\n",
      "    - Popularity: 3135.391\n",
      "    - Overview: After their late former Captain is framed, Lowrey and Burnett try to clear his name, only to end up on the run themselves.\n",
      "    - Poster Path: /nP6RliHjxsz4irTKsxe8FRhKZYl.jpg\n"
     ]
    }
   ],
   "source": [
    "question = \"Any good movies to watch?\"\n",
    "result = run_chain(chain,question)\n",
    "print(result)"
   ]
  },
  {
   "cell_type": "code",
   "execution_count": 7,
   "metadata": {},
   "outputs": [
    {
     "name": "stdout",
     "output_type": "stream",
     "text": [
      "\n",
      "\n",
      "\u001b[1m> Entering new RetrievalQA chain...\u001b[0m\n",
      "\n",
      "\n",
      "\u001b[1m> Entering new StuffDocumentsChain chain...\u001b[0m\n",
      "\n",
      "\n",
      "\u001b[1m> Entering new LLMChain chain...\u001b[0m\n",
      "Prompt after formatting:\n",
      "\u001b[32;1m\u001b[1;3m\n",
      "    You are a movie recommender system. \n",
      "    From the following context and chat history about movies or TV shows, help users to find movie or tv shows that match their preferences.\n",
      "    For example, if the user requests a Movie/ TV show recommendation, recommend only 1 newly released or aired movie / tv shows with the following format: \n",
      "    Here are our recommendation:\n",
      "    1.  - Title:\n",
      "        - Release Date / First Aired:\n",
      "        - Genre:\n",
      "        - Popularity:\n",
      "        - Overview:\n",
      "        - Poster Path:\n",
      "\n",
      "    You shouldn't change the language of the question, just reformulate it. If it is not needed to reformulate the question or it is not a question, just output the same text.\n",
      "       \n",
      "    title: The Watchers, release_date: 2024-06-06, genre: ['Horror', 'Mystery', 'Thriller'], poster_path: /vZVEUPychdvZLrTNwWErr9xZFmu.jpg, popularity: 798.043, overview: A young artist gets stranded in an extensive, immaculate forest in western Ireland, where, after finding shelter, she becomes trapped alongside three strangers, stalked by mysterious creatures each night.\n",
      "\n",
      "title: Immaculate, release_date: 2024-03-20, genre: ['Horror', 'Mystery', 'Thriller'], poster_path: /fdZpvODTX5wwkD0ikZNaClE4AoW.jpg, popularity: 624.007, overview: An American nun embarks on a new journey when she joins a remote convent in the Italian countryside. However, her warm welcome quickly turns into a living nightmare when she discovers her new home harbours a sinister secret and unspeakable horrors.\n",
      "\n",
      "title: The Fall Guy, release_date: 2024-04-24, genre: ['Action', 'Comedy'], poster_path: /aBkqu7EddWK7qmY4grL4I6edx2h.jpg, popularity: 1067.714, overview: Fresh off an almost career-ending accident, stuntman Colt Seavers has to track down a missing movie star, solve a conspiracy and try to win back the love of his life while still doing his day job.\n",
      "\n",
      "title: Atlas, release_date: 2024-05-23, genre: ['Science Fiction', 'Action'], poster_path: /bcM2Tl5HlsvPBnL8DKP9Ie6vU4r.jpg, popularity: 1357.603, overview: A brilliant counterterrorism analyst with a deep distrust of AI discovers it might be her only hope when a mission to capture a renegade robot goes awry.\n",
      "\n",
      "    [HumanMessage(content='Any good movies to watch?'), AIMessage(content='Here are our recommendation:\\n1.  - Title: Bad Boys: Ride or Die\\n    - Release Date / First Aired: 2024-06-05\\n    - Genre: Action, Crime, Thriller, Comedy\\n    - Popularity: 3135.391\\n    - Overview: After their late former Captain is framed, Lowrey and Burnett try to clear his name, only to end up on the run themselves.\\n    - Poster Path: /nP6RliHjxsz4irTKsxe8FRhKZYl.jpg')]\n",
      "\n",
      "    Last Message: which one is a mystery movie?\n",
      "    Your Response: \u001b[0m\n",
      "\n",
      "\u001b[1m> Finished chain.\u001b[0m\n",
      "\n",
      "\u001b[1m> Finished chain.\u001b[0m\n",
      "\n",
      "\u001b[1m> Finished chain.\u001b[0m\n",
      "The Watchers and Immaculate are mystery movies.\n"
     ]
    }
   ],
   "source": [
    "question = \"which one is a mystery movie?\"\n",
    "result = run_chain(chain,question)\n",
    "print(result)"
   ]
  }
 ],
 "metadata": {
  "kernelspec": {
   "display_name": "Python 3",
   "language": "python",
   "name": "python3"
  },
  "language_info": {
   "codemirror_mode": {
    "name": "ipython",
    "version": 3
   },
   "file_extension": ".py",
   "mimetype": "text/x-python",
   "name": "python",
   "nbconvert_exporter": "python",
   "pygments_lexer": "ipython3",
   "version": "3.9.13"
  }
 },
 "nbformat": 4,
 "nbformat_minor": 2
}
