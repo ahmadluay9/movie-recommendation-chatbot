{
 "cells": [
  {
   "cell_type": "code",
   "execution_count": 67,
   "metadata": {},
   "outputs": [],
   "source": [
    "# Import Library\n",
    "import os\n",
    "import requests\n",
    "import pandas as pd\n",
    "import json\n",
    "from dotenv import load_dotenv\n",
    "from datetime import datetime\n",
    "\n",
    "# import tiktoken\n",
    "from langchain.chains import ConversationalRetrievalChain\n",
    "from langchain.chat_models import ChatOpenAI\n",
    "from langchain.prompts import PromptTemplate\n",
    "from langchain.document_loaders import DataFrameLoader\n",
    "from langchain.text_splitter import CharacterTextSplitter\n",
    "from langchain.embeddings import HuggingFaceEmbeddings\n",
    "from langchain.memory import ConversationBufferMemory\n",
    "from langchain.vectorstores import FAISS\n"
   ]
  },
  {
   "cell_type": "code",
   "execution_count": 2,
   "metadata": {},
   "outputs": [],
   "source": [
    "# Load environment variables from .env\n",
    "load_dotenv()\n",
    "\n",
    "# Access the OpenAI API key\n",
    "openai_api_key = os.getenv(\"MY_OPENAI_KEY\")\n",
    "TMDB_API_KEY = os.getenv(\"TMDB_API_KEY\")"
   ]
  },
  {
   "cell_type": "code",
   "execution_count": 53,
   "metadata": {},
   "outputs": [],
   "source": [
    "def fetch_data(user):\n",
    "    if user == 'movie':\n",
    "        url = \"https://api.themoviedb.org/3/movie/now_playing?language=en-US&page=1\"\n",
    "        info_columns = ['title', 'release_date', 'genre', 'poster_path','popularity']\n",
    "    elif user == 'tv':\n",
    "        url = \"https://api.themoviedb.org/3/tv/airing_today?language=en-US&page=1\"\n",
    "        info_columns = ['name', 'first_air_date', 'genre', 'poster_path','popularity']\n",
    "    else:\n",
    "        raise ValueError(\"User must be 'movie' or 'tv'\")\n",
    "\n",
    "    headers = {\n",
    "        \"accept\": \"application/json\",\n",
    "        \"Authorization\": f\"Bearer {TMDB_API_KEY}\"\n",
    "    }\n",
    "\n",
    "    response = requests.get(url, headers=headers)\n",
    "    \n",
    "    # Check if the request was successful\n",
    "    if response.status_code == 200:\n",
    "        # Parse the JSON response\n",
    "        data = response.json()\n",
    "        \n",
    "        # Extract the list of movies or TV shows from the response\n",
    "        results = data.get('results', [])\n",
    "        \n",
    "        # Create a DataFrame\n",
    "        df = pd.DataFrame(results)\n",
    "\n",
    "        # Add a new column 'genre' based on genre_ids\n",
    "        genre_mapping = {\n",
    "            28: 'Action',\n",
    "            12: 'Adventure',\n",
    "            16: 'Animation',\n",
    "            35: 'Comedy',\n",
    "            80: 'Crime',\n",
    "            99: 'Documentary',\n",
    "            18: 'Drama',\n",
    "            10751: 'Family',\n",
    "            14: 'Fantasy',\n",
    "            36: 'History',\n",
    "            27: 'Horror',\n",
    "            10402: 'Music',\n",
    "            9648: 'Mystery',\n",
    "            10749: 'Romance',\n",
    "            878: 'Science Fiction',\n",
    "            10770: 'TV Movie',\n",
    "            53: 'Thriller',\n",
    "            10752: 'War',\n",
    "            37: 'Western',\n",
    "            10759: 'Action & Adventure',\n",
    "            10762: 'Kids',\n",
    "            10763: 'News',\n",
    "            10764: 'Reality',\n",
    "            10765: 'Sci-Fi & Fantasy',\n",
    "            10766: 'Soap',\n",
    "            10767: 'Talk',\n",
    "            10768: 'War & Politics'  \n",
    "        }\n",
    "        \n",
    "        df['genre'] = df['genre_ids'].apply(lambda x: [genre_mapping.get(genre_id, 'Unknown') for genre_id in x])\n",
    "        \n",
    "        # Create combined_info column based on user type\n",
    "        df['combined_info'] = df.apply(lambda row: f\"{info_columns[0]}: {row[info_columns[0]]}, {info_columns[1]}: {row[info_columns[1]]},{info_columns[2]}: {row[info_columns[2]]}, {info_columns[3]}: {row[info_columns[3]]}, {info_columns[4]}: {row[info_columns[4]]}\", axis=1)\n",
    "        \n",
    "        return df\n",
    "    \n",
    "    else:\n",
    "        print(f\"Error fetching data. Status code: {response.status_code}\")\n",
    "        return None"
   ]
  },
  {
   "cell_type": "code",
   "execution_count": 31,
   "metadata": {},
   "outputs": [
    {
     "data": {
      "text/html": [
       "<div>\n",
       "<style scoped>\n",
       "    .dataframe tbody tr th:only-of-type {\n",
       "        vertical-align: middle;\n",
       "    }\n",
       "\n",
       "    .dataframe tbody tr th {\n",
       "        vertical-align: top;\n",
       "    }\n",
       "\n",
       "    .dataframe thead th {\n",
       "        text-align: right;\n",
       "    }\n",
       "</style>\n",
       "<table border=\"1\" class=\"dataframe\">\n",
       "  <thead>\n",
       "    <tr style=\"text-align: right;\">\n",
       "      <th></th>\n",
       "      <th>adult</th>\n",
       "      <th>backdrop_path</th>\n",
       "      <th>genre_ids</th>\n",
       "      <th>id</th>\n",
       "      <th>original_language</th>\n",
       "      <th>original_title</th>\n",
       "      <th>overview</th>\n",
       "      <th>popularity</th>\n",
       "      <th>poster_path</th>\n",
       "      <th>release_date</th>\n",
       "      <th>title</th>\n",
       "      <th>video</th>\n",
       "      <th>vote_average</th>\n",
       "      <th>vote_count</th>\n",
       "      <th>genre</th>\n",
       "      <th>combined_info</th>\n",
       "    </tr>\n",
       "  </thead>\n",
       "  <tbody>\n",
       "    <tr>\n",
       "      <th>0</th>\n",
       "      <td>False</td>\n",
       "      <td>/stKGOm8UyhuLPR9sZLjs5AkmncA.jpg</td>\n",
       "      <td>[16, 10751, 18, 12, 35]</td>\n",
       "      <td>1022789</td>\n",
       "      <td>en</td>\n",
       "      <td>Inside Out 2</td>\n",
       "      <td>Teenager Riley's mind headquarters is undergoi...</td>\n",
       "      <td>3553.500</td>\n",
       "      <td>/vpnVM9B6NMmQpWeZvzLvDESb2QY.jpg</td>\n",
       "      <td>2024-06-11</td>\n",
       "      <td>Inside Out 2</td>\n",
       "      <td>False</td>\n",
       "      <td>7.643</td>\n",
       "      <td>136</td>\n",
       "      <td>[Animation, Family, Drama, Adventure, Comedy]</td>\n",
       "      <td>title: Inside Out 2, release_date: 2024-06-11,...</td>\n",
       "    </tr>\n",
       "    <tr>\n",
       "      <th>1</th>\n",
       "      <td>False</td>\n",
       "      <td>/fqv8v6AycXKsivp1T5yKtLbGXce.jpg</td>\n",
       "      <td>[878, 12, 28]</td>\n",
       "      <td>653346</td>\n",
       "      <td>en</td>\n",
       "      <td>Kingdom of the Planet of the Apes</td>\n",
       "      <td>Several generations in the future following Ca...</td>\n",
       "      <td>3327.202</td>\n",
       "      <td>/gKkl37BQuKTanygYQG1pyYgLVgf.jpg</td>\n",
       "      <td>2024-05-08</td>\n",
       "      <td>Kingdom of the Planet of the Apes</td>\n",
       "      <td>False</td>\n",
       "      <td>6.820</td>\n",
       "      <td>1048</td>\n",
       "      <td>[Science Fiction, Adventure, Action]</td>\n",
       "      <td>title: Kingdom of the Planet of the Apes, rele...</td>\n",
       "    </tr>\n",
       "    <tr>\n",
       "      <th>2</th>\n",
       "      <td>False</td>\n",
       "      <td>/hliXekHv7xc2cgXnMBLlp4Eihq8.jpg</td>\n",
       "      <td>[53, 27, 28, 9648]</td>\n",
       "      <td>1001311</td>\n",
       "      <td>fr</td>\n",
       "      <td>Sous la Seine</td>\n",
       "      <td>In the Summer of 2024, Paris is hosting the Wo...</td>\n",
       "      <td>2692.396</td>\n",
       "      <td>/qZPLK5ktRKa3CL4sKRZtj8UlPYc.jpg</td>\n",
       "      <td>2024-06-05</td>\n",
       "      <td>Under Paris</td>\n",
       "      <td>False</td>\n",
       "      <td>5.789</td>\n",
       "      <td>455</td>\n",
       "      <td>[Thriller, Horror, Action, Mystery]</td>\n",
       "      <td>title: Under Paris, release_date: 2024-06-05, ...</td>\n",
       "    </tr>\n",
       "    <tr>\n",
       "      <th>3</th>\n",
       "      <td>False</td>\n",
       "      <td>/gRApXuxWmO2forYTuTmcz5RaNUV.jpg</td>\n",
       "      <td>[28, 80, 53, 35]</td>\n",
       "      <td>573435</td>\n",
       "      <td>en</td>\n",
       "      <td>Bad Boys: Ride or Die</td>\n",
       "      <td>After their late former Captain is framed, Low...</td>\n",
       "      <td>2520.868</td>\n",
       "      <td>/nP6RliHjxsz4irTKsxe8FRhKZYl.jpg</td>\n",
       "      <td>2024-06-05</td>\n",
       "      <td>Bad Boys: Ride or Die</td>\n",
       "      <td>False</td>\n",
       "      <td>7.040</td>\n",
       "      <td>273</td>\n",
       "      <td>[Action, Crime, Thriller, Comedy]</td>\n",
       "      <td>title: Bad Boys: Ride or Die, release_date: 20...</td>\n",
       "    </tr>\n",
       "    <tr>\n",
       "      <th>4</th>\n",
       "      <td>False</td>\n",
       "      <td>/z121dSTR7PY9KxKuvwiIFSYW8cf.jpg</td>\n",
       "      <td>[10752, 28, 18]</td>\n",
       "      <td>929590</td>\n",
       "      <td>en</td>\n",
       "      <td>Civil War</td>\n",
       "      <td>In the near future, a group of war journalists...</td>\n",
       "      <td>1346.112</td>\n",
       "      <td>/sh7Rg8Er3tFcN9BpKIPOMvALgZd.jpg</td>\n",
       "      <td>2024-04-10</td>\n",
       "      <td>Civil War</td>\n",
       "      <td>False</td>\n",
       "      <td>7.019</td>\n",
       "      <td>1528</td>\n",
       "      <td>[War, Action, Drama]</td>\n",
       "      <td>title: Civil War, release_date: 2024-04-10, ge...</td>\n",
       "    </tr>\n",
       "  </tbody>\n",
       "</table>\n",
       "</div>"
      ],
      "text/plain": [
       "   adult                     backdrop_path                genre_ids       id  \\\n",
       "0  False  /stKGOm8UyhuLPR9sZLjs5AkmncA.jpg  [16, 10751, 18, 12, 35]  1022789   \n",
       "1  False  /fqv8v6AycXKsivp1T5yKtLbGXce.jpg            [878, 12, 28]   653346   \n",
       "2  False  /hliXekHv7xc2cgXnMBLlp4Eihq8.jpg       [53, 27, 28, 9648]  1001311   \n",
       "3  False  /gRApXuxWmO2forYTuTmcz5RaNUV.jpg         [28, 80, 53, 35]   573435   \n",
       "4  False  /z121dSTR7PY9KxKuvwiIFSYW8cf.jpg          [10752, 28, 18]   929590   \n",
       "\n",
       "  original_language                     original_title  \\\n",
       "0                en                       Inside Out 2   \n",
       "1                en  Kingdom of the Planet of the Apes   \n",
       "2                fr                      Sous la Seine   \n",
       "3                en              Bad Boys: Ride or Die   \n",
       "4                en                          Civil War   \n",
       "\n",
       "                                            overview  popularity  \\\n",
       "0  Teenager Riley's mind headquarters is undergoi...    3553.500   \n",
       "1  Several generations in the future following Ca...    3327.202   \n",
       "2  In the Summer of 2024, Paris is hosting the Wo...    2692.396   \n",
       "3  After their late former Captain is framed, Low...    2520.868   \n",
       "4  In the near future, a group of war journalists...    1346.112   \n",
       "\n",
       "                        poster_path release_date  \\\n",
       "0  /vpnVM9B6NMmQpWeZvzLvDESb2QY.jpg   2024-06-11   \n",
       "1  /gKkl37BQuKTanygYQG1pyYgLVgf.jpg   2024-05-08   \n",
       "2  /qZPLK5ktRKa3CL4sKRZtj8UlPYc.jpg   2024-06-05   \n",
       "3  /nP6RliHjxsz4irTKsxe8FRhKZYl.jpg   2024-06-05   \n",
       "4  /sh7Rg8Er3tFcN9BpKIPOMvALgZd.jpg   2024-04-10   \n",
       "\n",
       "                               title  video  vote_average  vote_count  \\\n",
       "0                       Inside Out 2  False         7.643         136   \n",
       "1  Kingdom of the Planet of the Apes  False         6.820        1048   \n",
       "2                        Under Paris  False         5.789         455   \n",
       "3              Bad Boys: Ride or Die  False         7.040         273   \n",
       "4                          Civil War  False         7.019        1528   \n",
       "\n",
       "                                           genre  \\\n",
       "0  [Animation, Family, Drama, Adventure, Comedy]   \n",
       "1           [Science Fiction, Adventure, Action]   \n",
       "2            [Thriller, Horror, Action, Mystery]   \n",
       "3              [Action, Crime, Thriller, Comedy]   \n",
       "4                           [War, Action, Drama]   \n",
       "\n",
       "                                       combined_info  \n",
       "0  title: Inside Out 2, release_date: 2024-06-11,...  \n",
       "1  title: Kingdom of the Planet of the Apes, rele...  \n",
       "2  title: Under Paris, release_date: 2024-06-05, ...  \n",
       "3  title: Bad Boys: Ride or Die, release_date: 20...  \n",
       "4  title: Civil War, release_date: 2024-04-10, ge...  "
      ]
     },
     "execution_count": 31,
     "metadata": {},
     "output_type": "execute_result"
    }
   ],
   "source": [
    "# Example usage:\n",
    "user = 'movie'  # Replace with 'tv' for TV shows\n",
    "df = fetch_data(user)\n",
    "\n",
    "df.head()"
   ]
  },
  {
   "cell_type": "code",
   "execution_count": 54,
   "metadata": {},
   "outputs": [
    {
     "data": {
      "text/html": [
       "<div>\n",
       "<style scoped>\n",
       "    .dataframe tbody tr th:only-of-type {\n",
       "        vertical-align: middle;\n",
       "    }\n",
       "\n",
       "    .dataframe tbody tr th {\n",
       "        vertical-align: top;\n",
       "    }\n",
       "\n",
       "    .dataframe thead th {\n",
       "        text-align: right;\n",
       "    }\n",
       "</style>\n",
       "<table border=\"1\" class=\"dataframe\">\n",
       "  <thead>\n",
       "    <tr style=\"text-align: right;\">\n",
       "      <th></th>\n",
       "      <th>adult</th>\n",
       "      <th>backdrop_path</th>\n",
       "      <th>genre_ids</th>\n",
       "      <th>id</th>\n",
       "      <th>origin_country</th>\n",
       "      <th>original_language</th>\n",
       "      <th>original_name</th>\n",
       "      <th>overview</th>\n",
       "      <th>popularity</th>\n",
       "      <th>poster_path</th>\n",
       "      <th>first_air_date</th>\n",
       "      <th>name</th>\n",
       "      <th>vote_average</th>\n",
       "      <th>vote_count</th>\n",
       "      <th>genre</th>\n",
       "      <th>combined_info</th>\n",
       "    </tr>\n",
       "  </thead>\n",
       "  <tbody>\n",
       "    <tr>\n",
       "      <th>0</th>\n",
       "      <td>False</td>\n",
       "      <td>/sQTyBUMfaTGDmwTofvY3jbSv2BP.jpg</td>\n",
       "      <td>[18, 9648, 35]</td>\n",
       "      <td>236033</td>\n",
       "      <td>[CN]</td>\n",
       "      <td>zh</td>\n",
       "      <td>墨雨云间</td>\n",
       "      <td>This drama tells the story of Xue Fangfei, the...</td>\n",
       "      <td>2991.444</td>\n",
       "      <td>/2tZoc93g8DXTWbQjj328xCb9Ei7.jpg</td>\n",
       "      <td>2024-06-02</td>\n",
       "      <td>The Double</td>\n",
       "      <td>7.000</td>\n",
       "      <td>1</td>\n",
       "      <td>[Drama, Mystery, Comedy]</td>\n",
       "      <td>name: The Double, first_air_date: 2024-06-02,g...</td>\n",
       "    </tr>\n",
       "    <tr>\n",
       "      <th>1</th>\n",
       "      <td>False</td>\n",
       "      <td>/s92ZvqE4gWOrZq60AKvhgZZxDY4.jpg</td>\n",
       "      <td>[10764]</td>\n",
       "      <td>240909</td>\n",
       "      <td>[CO]</td>\n",
       "      <td>es</td>\n",
       "      <td>La Casa de los Famosos Colombia</td>\n",
       "      <td></td>\n",
       "      <td>2509.482</td>\n",
       "      <td>/lCn94cscNlFToXIbIWRSGBqb20Q.jpg</td>\n",
       "      <td>2024-02-11</td>\n",
       "      <td>La Casa de los Famosos Colombia</td>\n",
       "      <td>6.280</td>\n",
       "      <td>25</td>\n",
       "      <td>[Reality]</td>\n",
       "      <td>name: La Casa de los Famosos Colombia, first_a...</td>\n",
       "    </tr>\n",
       "    <tr>\n",
       "      <th>2</th>\n",
       "      <td>False</td>\n",
       "      <td>/d1aFl8AQ3dFMsGbeF5wk6BOUwq8.jpg</td>\n",
       "      <td>[]</td>\n",
       "      <td>209374</td>\n",
       "      <td>[US]</td>\n",
       "      <td>es</td>\n",
       "      <td>Top Chef VIP</td>\n",
       "      <td></td>\n",
       "      <td>2733.846</td>\n",
       "      <td>/cw6M4c2MpLSzqzmrrqpSJlEbwCF.jpg</td>\n",
       "      <td>2022-08-09</td>\n",
       "      <td>Top Chef VIP</td>\n",
       "      <td>4.500</td>\n",
       "      <td>6</td>\n",
       "      <td>[]</td>\n",
       "      <td>name: Top Chef VIP, first_air_date: 2022-08-09...</td>\n",
       "    </tr>\n",
       "    <tr>\n",
       "      <th>3</th>\n",
       "      <td>False</td>\n",
       "      <td>/butPVWgcbtAjL9Z7jU7Xj1KA8KD.jpg</td>\n",
       "      <td>[10767, 35]</td>\n",
       "      <td>22980</td>\n",
       "      <td>[US]</td>\n",
       "      <td>en</td>\n",
       "      <td>Watch What Happens Live with Andy Cohen</td>\n",
       "      <td>Bravo network executive Andy Cohen discusses p...</td>\n",
       "      <td>1972.754</td>\n",
       "      <td>/onSD9UXfJwrMXWhq7UY7hGF2S1h.jpg</td>\n",
       "      <td>2009-07-16</td>\n",
       "      <td>Watch What Happens Live with Andy Cohen</td>\n",
       "      <td>4.896</td>\n",
       "      <td>53</td>\n",
       "      <td>[Talk, Comedy]</td>\n",
       "      <td>name: Watch What Happens Live with Andy Cohen,...</td>\n",
       "    </tr>\n",
       "    <tr>\n",
       "      <th>4</th>\n",
       "      <td>False</td>\n",
       "      <td>/ohJTnu93hJ0Uonl86Wn3mOSlWXN.jpg</td>\n",
       "      <td>[10751, 35, 18]</td>\n",
       "      <td>91759</td>\n",
       "      <td>[HK]</td>\n",
       "      <td>cn</td>\n",
       "      <td>愛·回家之開心速遞</td>\n",
       "      <td>Hung Sue Gan starting from the bottom, establi...</td>\n",
       "      <td>1018.451</td>\n",
       "      <td>/lgD4j9gUGmMckZpWWRJjorWqGVT.jpg</td>\n",
       "      <td>2017-02-06</td>\n",
       "      <td>Come Home Love: Lo and Behold</td>\n",
       "      <td>5.400</td>\n",
       "      <td>36</td>\n",
       "      <td>[Family, Comedy, Drama]</td>\n",
       "      <td>name: Come Home Love: Lo and Behold, first_air...</td>\n",
       "    </tr>\n",
       "  </tbody>\n",
       "</table>\n",
       "</div>"
      ],
      "text/plain": [
       "   adult                     backdrop_path        genre_ids      id  \\\n",
       "0  False  /sQTyBUMfaTGDmwTofvY3jbSv2BP.jpg   [18, 9648, 35]  236033   \n",
       "1  False  /s92ZvqE4gWOrZq60AKvhgZZxDY4.jpg          [10764]  240909   \n",
       "2  False  /d1aFl8AQ3dFMsGbeF5wk6BOUwq8.jpg               []  209374   \n",
       "3  False  /butPVWgcbtAjL9Z7jU7Xj1KA8KD.jpg      [10767, 35]   22980   \n",
       "4  False  /ohJTnu93hJ0Uonl86Wn3mOSlWXN.jpg  [10751, 35, 18]   91759   \n",
       "\n",
       "  origin_country original_language                            original_name  \\\n",
       "0           [CN]                zh                                     墨雨云间   \n",
       "1           [CO]                es          La Casa de los Famosos Colombia   \n",
       "2           [US]                es                             Top Chef VIP   \n",
       "3           [US]                en  Watch What Happens Live with Andy Cohen   \n",
       "4           [HK]                cn                                愛·回家之開心速遞   \n",
       "\n",
       "                                            overview  popularity  \\\n",
       "0  This drama tells the story of Xue Fangfei, the...    2991.444   \n",
       "1                                                       2509.482   \n",
       "2                                                       2733.846   \n",
       "3  Bravo network executive Andy Cohen discusses p...    1972.754   \n",
       "4  Hung Sue Gan starting from the bottom, establi...    1018.451   \n",
       "\n",
       "                        poster_path first_air_date  \\\n",
       "0  /2tZoc93g8DXTWbQjj328xCb9Ei7.jpg     2024-06-02   \n",
       "1  /lCn94cscNlFToXIbIWRSGBqb20Q.jpg     2024-02-11   \n",
       "2  /cw6M4c2MpLSzqzmrrqpSJlEbwCF.jpg     2022-08-09   \n",
       "3  /onSD9UXfJwrMXWhq7UY7hGF2S1h.jpg     2009-07-16   \n",
       "4  /lgD4j9gUGmMckZpWWRJjorWqGVT.jpg     2017-02-06   \n",
       "\n",
       "                                      name  vote_average  vote_count  \\\n",
       "0                               The Double         7.000           1   \n",
       "1          La Casa de los Famosos Colombia         6.280          25   \n",
       "2                             Top Chef VIP         4.500           6   \n",
       "3  Watch What Happens Live with Andy Cohen         4.896          53   \n",
       "4            Come Home Love: Lo and Behold         5.400          36   \n",
       "\n",
       "                      genre                                      combined_info  \n",
       "0  [Drama, Mystery, Comedy]  name: The Double, first_air_date: 2024-06-02,g...  \n",
       "1                 [Reality]  name: La Casa de los Famosos Colombia, first_a...  \n",
       "2                        []  name: Top Chef VIP, first_air_date: 2022-08-09...  \n",
       "3            [Talk, Comedy]  name: Watch What Happens Live with Andy Cohen,...  \n",
       "4   [Family, Comedy, Drama]  name: Come Home Love: Lo and Behold, first_air...  "
      ]
     },
     "execution_count": 54,
     "metadata": {},
     "output_type": "execute_result"
    }
   ],
   "source": [
    "# Example usage:\n",
    "user = 'tv'  # Replace with 'tv' for TV shows\n",
    "df = fetch_data(user)\n",
    "\n",
    "df.head()"
   ]
  },
  {
   "cell_type": "code",
   "execution_count": 58,
   "metadata": {},
   "outputs": [],
   "source": [
    "# Load Processed Dataset and textsplitting\n",
    "def loader(data):\n",
    "    loader = DataFrameLoader(df, page_content_column=\"combined_info\")\n",
    "    docs  = loader.load()\n",
    "    # Document splitting\n",
    "    text_splitter = CharacterTextSplitter(chunk_size=1000, chunk_overlap=200)\n",
    "    texts = text_splitter.split_documents(docs)\n",
    "    return texts\n"
   ]
  },
  {
   "cell_type": "code",
   "execution_count": 60,
   "metadata": {},
   "outputs": [],
   "source": [
    "# embeddings model\n",
    "def model_embedding():\n",
    "    # Define the path to the pre-trained model you want to use\n",
    "    modelPath = \"sentence-transformers/all-MiniLM-l6-v2\"\n",
    "\n",
    "    # Create a dictionary with model configuration options, specifying to use the CPU for computations\n",
    "    model_kwargs = {'device':'cpu'}\n",
    "\n",
    "    # Create a dictionary with encoding options, specifically setting 'normalize_embeddings' to False\n",
    "    encode_kwargs = {'normalize_embeddings': False}\n",
    "\n",
    "    # Initialize an instance of HuggingFaceEmbeddings with the specified parameters\n",
    "    embeddings = HuggingFaceEmbeddings(\n",
    "        model_name=modelPath,     # Provide the pre-trained model's path\n",
    "        model_kwargs=model_kwargs, # Pass the model configuration options\n",
    "        encode_kwargs=encode_kwargs # Pass the encoding options\n",
    ")\n",
    "    return embeddings"
   ]
  },
  {
   "cell_type": "code",
   "execution_count": 68,
   "metadata": {},
   "outputs": [
    {
     "name": "stderr",
     "output_type": "stream",
     "text": [
      "C:\\Users\\luay9\\AppData\\Local\\Packages\\PythonSoftwareFoundation.Python.3.9_qbz5n2kfra8p0\\LocalCache\\local-packages\\Python39\\site-packages\\sentence_transformers\\cross_encoder\\CrossEncoder.py:11: TqdmExperimentalWarning: Using `tqdm.autonotebook.tqdm` in notebook mode. Use `tqdm.tqdm` instead to force console mode (e.g. in jupyter console)\n",
      "  from tqdm.autonotebook import tqdm, trange\n"
     ]
    },
    {
     "name": "stdout",
     "output_type": "stream",
     "text": [
      "WARNING:tensorflow:From C:\\Users\\luay9\\AppData\\Local\\Packages\\PythonSoftwareFoundation.Python.3.9_qbz5n2kfra8p0\\LocalCache\\local-packages\\Python39\\site-packages\\keras\\src\\losses.py:2976: The name tf.losses.sparse_softmax_cross_entropy is deprecated. Please use tf.compat.v1.losses.sparse_softmax_cross_entropy instead.\n",
      "\n"
     ]
    },
    {
     "data": {
      "application/vnd.jupyter.widget-view+json": {
       "model_id": "c81aaaf63d9a4b78a96cfb71b02d9cee",
       "version_major": 2,
       "version_minor": 0
      },
      "text/plain": [
       "modules.json:   0%|          | 0.00/349 [00:00<?, ?B/s]"
      ]
     },
     "metadata": {},
     "output_type": "display_data"
    },
    {
     "name": "stderr",
     "output_type": "stream",
     "text": [
      "C:\\Users\\luay9\\AppData\\Local\\Packages\\PythonSoftwareFoundation.Python.3.9_qbz5n2kfra8p0\\LocalCache\\local-packages\\Python39\\site-packages\\huggingface_hub\\file_download.py:157: UserWarning: `huggingface_hub` cache-system uses symlinks by default to efficiently store duplicated files but your machine does not support them in C:\\Users\\luay9\\.cache\\huggingface\\hub\\models--sentence-transformers--all-MiniLM-l6-v2. Caching files will still work but in a degraded version that might require more space on your disk. This warning can be disabled by setting the `HF_HUB_DISABLE_SYMLINKS_WARNING` environment variable. For more details, see https://huggingface.co/docs/huggingface_hub/how-to-cache#limitations.\n",
      "To support symlinks on Windows, you either need to activate Developer Mode or to run Python as an administrator. In order to see activate developer mode, see this article: https://docs.microsoft.com/en-us/windows/apps/get-started/enable-your-device-for-development\n",
      "  warnings.warn(message)\n"
     ]
    },
    {
     "data": {
      "application/vnd.jupyter.widget-view+json": {
       "model_id": "200d9e5f54d8446f8e066073430f84a6",
       "version_major": 2,
       "version_minor": 0
      },
      "text/plain": [
       "config_sentence_transformers.json:   0%|          | 0.00/116 [00:00<?, ?B/s]"
      ]
     },
     "metadata": {},
     "output_type": "display_data"
    },
    {
     "data": {
      "application/vnd.jupyter.widget-view+json": {
       "model_id": "a8029b3f87bb4558a500cab1c7a05ffc",
       "version_major": 2,
       "version_minor": 0
      },
      "text/plain": [
       "README.md:   0%|          | 0.00/10.7k [00:00<?, ?B/s]"
      ]
     },
     "metadata": {},
     "output_type": "display_data"
    },
    {
     "data": {
      "application/vnd.jupyter.widget-view+json": {
       "model_id": "5004d9c1622a4d339da7ea3e443417e7",
       "version_major": 2,
       "version_minor": 0
      },
      "text/plain": [
       "sentence_bert_config.json:   0%|          | 0.00/53.0 [00:00<?, ?B/s]"
      ]
     },
     "metadata": {},
     "output_type": "display_data"
    },
    {
     "name": "stderr",
     "output_type": "stream",
     "text": [
      "C:\\Users\\luay9\\AppData\\Local\\Packages\\PythonSoftwareFoundation.Python.3.9_qbz5n2kfra8p0\\LocalCache\\local-packages\\Python39\\site-packages\\huggingface_hub\\file_download.py:1132: FutureWarning: `resume_download` is deprecated and will be removed in version 1.0.0. Downloads always resume when possible. If you want to force a new download, use `force_download=True`.\n",
      "  warnings.warn(\n"
     ]
    },
    {
     "data": {
      "application/vnd.jupyter.widget-view+json": {
       "model_id": "d13a0864325041f085b4e879fe37217c",
       "version_major": 2,
       "version_minor": 0
      },
      "text/plain": [
       "config.json:   0%|          | 0.00/612 [00:00<?, ?B/s]"
      ]
     },
     "metadata": {},
     "output_type": "display_data"
    },
    {
     "data": {
      "application/vnd.jupyter.widget-view+json": {
       "model_id": "614dc8171cac4981a75d37c428573d6d",
       "version_major": 2,
       "version_minor": 0
      },
      "text/plain": [
       "model.safetensors:   0%|          | 0.00/90.9M [00:00<?, ?B/s]"
      ]
     },
     "metadata": {},
     "output_type": "display_data"
    },
    {
     "data": {
      "application/vnd.jupyter.widget-view+json": {
       "model_id": "f8a50938b9594cd09522ed9f2e840337",
       "version_major": 2,
       "version_minor": 0
      },
      "text/plain": [
       "tokenizer_config.json:   0%|          | 0.00/350 [00:00<?, ?B/s]"
      ]
     },
     "metadata": {},
     "output_type": "display_data"
    },
    {
     "data": {
      "application/vnd.jupyter.widget-view+json": {
       "model_id": "d3c03f4a05294406bc0aa03980102058",
       "version_major": 2,
       "version_minor": 0
      },
      "text/plain": [
       "vocab.txt:   0%|          | 0.00/232k [00:00<?, ?B/s]"
      ]
     },
     "metadata": {},
     "output_type": "display_data"
    },
    {
     "data": {
      "application/vnd.jupyter.widget-view+json": {
       "model_id": "b3264ed23ffd486f9a6b3e3c7a55e367",
       "version_major": 2,
       "version_minor": 0
      },
      "text/plain": [
       "tokenizer.json:   0%|          | 0.00/466k [00:00<?, ?B/s]"
      ]
     },
     "metadata": {},
     "output_type": "display_data"
    },
    {
     "data": {
      "application/vnd.jupyter.widget-view+json": {
       "model_id": "9e2129c574204d3d8ee32bd24a852475",
       "version_major": 2,
       "version_minor": 0
      },
      "text/plain": [
       "special_tokens_map.json:   0%|          | 0.00/112 [00:00<?, ?B/s]"
      ]
     },
     "metadata": {},
     "output_type": "display_data"
    },
    {
     "data": {
      "application/vnd.jupyter.widget-view+json": {
       "model_id": "4ddb25ee94b944828746c98a95251443",
       "version_major": 2,
       "version_minor": 0
      },
      "text/plain": [
       "1_Pooling/config.json:   0%|          | 0.00/190 [00:00<?, ?B/s]"
      ]
     },
     "metadata": {},
     "output_type": "display_data"
    }
   ],
   "source": [
    "# Vector DB\n",
    "vectorstore  = FAISS.from_documents(loader(df), model_embedding())"
   ]
  },
  {
   "cell_type": "code",
   "execution_count": null,
   "metadata": {},
   "outputs": [],
   "source": [
    "# todo write about alternatives\n",
    "QUESTION_CREATOR_TEMPLATE = \"\"\"Given a conversation history, reformulate the question to make it easier to search from a database. \n",
    "For example, if the AI says \"Do you want to know the current weather in Istanbul?\", and the user answer as \"yes\" then the AI should reformulate the question as \"What is the current weather in Istanbul?\".\n",
    "You shouldn't change the language of the question, just reformulate it. If it is not needed to reformulate the question or it is not a question, just output the same text.\n",
    "### Conversation History ###\n",
    "{chat_history}\n",
    "\n",
    "Last Message: {question}\n",
    "Reformulated Question:\"\"\""
   ]
  },
  {
   "cell_type": "code",
   "execution_count": null,
   "metadata": {},
   "outputs": [],
   "source": [
    "def chain():\n",
    "    condense_question_prompt = PromptTemplate.from_template(QUESTION_CREATOR_TEMPLATE)\n",
    "    chain = ConversationalRetrievalChain.from_llm(\n",
    "        llm=ChatOpenAI(model_name=\"gpt-3.5-turbo\", temperature=0),\n",
    "        retriever=retriever,\n",
    "        condense_question_llm=ChatOpenAI(model_name=\"gpt-3.5-turbo\"),\n",
    "        condense_question_prompt=condense_question_prompt,\n",
    "        verbose=True,\n",
    "    )\n",
    "\n",
    "    return chain"
   ]
  }
 ],
 "metadata": {
  "kernelspec": {
   "display_name": "Python 3",
   "language": "python",
   "name": "python3"
  },
  "language_info": {
   "codemirror_mode": {
    "name": "ipython",
    "version": 3
   },
   "file_extension": ".py",
   "mimetype": "text/x-python",
   "name": "python",
   "nbconvert_exporter": "python",
   "pygments_lexer": "ipython3",
   "version": "3.9.13"
  }
 },
 "nbformat": 4,
 "nbformat_minor": 2
}
